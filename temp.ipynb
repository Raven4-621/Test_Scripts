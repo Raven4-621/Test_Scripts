{
 "cells": [
  {
   "cell_type": "code",
   "execution_count": 1,
   "id": "60bd0467-9096-49ac-9c11-94ad7245ac5f",
   "metadata": {},
   "outputs": [],
   "source": [
    "import uiautomator2 as u2\n",
    "import random\n",
    "import time"
   ]
  },
  {
   "cell_type": "code",
   "execution_count": 2,
   "id": "6ed1b5e2-4b0d-4972-966d-ea152316681e",
   "metadata": {
    "tags": []
   },
   "outputs": [
    {
     "data": {
      "text/plain": [
       "{'currentPackageName': 'com.android.systemui',\n",
       " 'displayHeight': 2232,\n",
       " 'displayRotation': 0,\n",
       " 'displaySizeDpX': 360,\n",
       " 'displaySizeDpY': 780,\n",
       " 'displayWidth': 1080,\n",
       " 'productName': 'YAL-AL10',\n",
       " 'screenOn': False,\n",
       " 'sdkInt': 29,\n",
       " 'naturalOrientation': True}"
      ]
     },
     "execution_count": 2,
     "metadata": {},
     "output_type": "execute_result"
    }
   ],
   "source": [
    "d = u2.connect()\n",
    "d.info"
   ]
  },
  {
   "cell_type": "markdown",
   "id": "d9e0fad2-6ec4-4feb-bbd5-35dd0994f74d",
   "metadata": {},
   "source": [
    "## 锁屏解锁\n",
    "自动识别息屏、亮屏状态并解锁, 支持无密码、数字、图案"
   ]
  },
  {
   "cell_type": "code",
   "execution_count": 3,
   "id": "f7b3d753-764e-4c39-99d3-88aab60213cd",
   "metadata": {
    "scrolled": true
   },
   "outputs": [],
   "source": [
    "# 华为系\n",
    "def unlock():\n",
    "    info = d.info\n",
    "    if info.get('screenOn') and info.get('currentPackageName') != 'com.android.systemui':\n",
    "        # 屏幕已点亮且当前包名不是系统UI（意味着已经在主屏幕或者应用内）\n",
    "        pass\n",
    "    elif info.get('screenOn') and info.get('currentPackageName') == 'com.android.systemui':\n",
    "        # 屏幕已点亮且当前包名是系统UI（可能在锁屏界面）\n",
    "        d.press('recent')  # 可能会唤醒密码输入界面\n",
    "        # 模拟解锁手势\n",
    "        d.swipe_points([(250, 1270), (555, 1570), (850, 1890), (865, 1570), (535, 1300), (260, 1565), (265, 1870), (850, 1275)], 0.1)\n",
    "        time.sleep(0.1)\n",
    "        d.click(0.9, 0.5)\n",
    "    else:\n",
    "        # 屏幕未点亮\n",
    "        d.screen_on()\n",
    "        d.press('recent')\n",
    "        # 模拟解锁手势\n",
    "        d.swipe_points([(250, 1270), (555, 1570), (850, 1890), (865, 1570), (535, 1300), (260, 1565), (265, 1870), (850, 1275)], 0.1)\n",
    "        time.sleep(0.1)\n",
    "        d.click(0.9, 0.5)\n",
    "        \n"
   ]
  },
  {
   "cell_type": "markdown",
   "id": "4b21a347-aae3-401e-9541-b04292821a12",
   "metadata": {},
   "source": [
    "## 随机打开任意数量个应用\n",
    "支持三方/系统应用类型限定, 更换请在第九行添加参数pm list pack -3 | -s  \n",
    "开始打开app前会检测目前已在运行应用并在将运行列表内剔除"
   ]
  },
  {
   "cell_type": "code",
   "execution_count": 111,
   "id": "f426221e-952d-40b0-a841-1a805b19665e",
   "metadata": {},
   "outputs": [],
   "source": [
    "def open_random_apps():\n",
    "    while True:\n",
    "        try:\n",
    "            max_apps = int(input('请输入最大将运行的app数量: '))\n",
    "            break\n",
    "        except ValueError:\n",
    "            print('请输入整数!')\n",
    "    package_list_prefix = str(d.shell('pm list package -3')).split('output=')[1].split(', exit_code')[0].strip(\"'\").split('\\\\n')[:-1]\n",
    "    package_list = [pkg.replace('package:', '') for pkg in package_list_prefix if pkg]\n",
    "    running_app_list = d.app_list_running()\n",
    "    waiting_app_list = [app for app in package_list if app not in running_app_list]\n",
    "    for i in range(min(max_apps, len(waiting_app_list))):  # 加入min函数防止超出\n",
    "        waiting_app = random.choice(waiting_app_list)\n",
    "        d.app_start(waiting_app)\n",
    "        try:\n",
    "            pid = d.app_wait(waiting_app, timeout=20)\n",
    "            if not pid:\n",
    "                print(f'{waiting_app}没在运行!')\n",
    "            else:\n",
    "                print(f'{waiting_app}进程为{pid}')\n",
    "            waiting_app_list.remove(waiting_app)\n",
    "        except Exception as e:\n",
    "             print(f\"捕获到错误：{e}\")\n",
    "        finally:\n",
    "            waiting_app_list.remove(waiting_app)\n",
    "            \n",
    "    return 0\n",
    "    "
   ]
  },
  {
   "cell_type": "code",
   "execution_count": 106,
   "id": "d6bf7b1b-b5ad-459e-b3c8-8a5b7017afa5",
   "metadata": {},
   "outputs": [
    {
     "name": "stdin",
     "output_type": "stream",
     "text": [
      "请输入最大将运行的app数量:  5\n"
     ]
    },
    {
     "name": "stdout",
     "output_type": "stream",
     "text": [
      "com.vnet.tech进程为13942\n",
      "com.tencent.qqmusic进程为14188\n",
      "cn.edu.zjicm.wordsnet_d进程为14490\n"
     ]
    },
    {
     "ename": "BaseError",
     "evalue": "stat /data/app/com.adobe.psmobile-iN0WuWoX6WyJS4dyk02dow==/base.apk\npackage:/data/app/com.adobe.psmobile-iN0WuWoX6WyJS4dyk02dow==/split_config.arm64_v8a.apk\npackage:/data/app/com.adobe.psmobile-iN0WuWoX6WyJS4dyk02dow==/split_config.en.apk\npackage:/data/app/com.adobe.psmobile-iN0WuWoX6WyJS4dyk02dow==/split_config.xxhdpi.apk\npackage:/data/app/com.adobe.psmobile-iN0WuWoX6WyJS4dyk02dow==/split_config.zh.apk: no such file or directory",
     "output_type": "error",
     "traceback": [
      "\u001b[1;31m---------------------------------------------------------------------------\u001b[0m",
      "\u001b[1;31mBaseError\u001b[0m                                 Traceback (most recent call last)",
      "Cell \u001b[1;32mIn[106], line 1\u001b[0m\n\u001b[1;32m----> 1\u001b[0m \u001b[43mopen_random_apps\u001b[49m\u001b[43m(\u001b[49m\u001b[43m)\u001b[49m\n",
      "Cell \u001b[1;32mIn[102], line 14\u001b[0m, in \u001b[0;36mopen_random_apps\u001b[1;34m()\u001b[0m\n\u001b[0;32m     12\u001b[0m \u001b[38;5;28;01mfor\u001b[39;00m i \u001b[38;5;129;01min\u001b[39;00m \u001b[38;5;28mrange\u001b[39m(\u001b[38;5;28mmin\u001b[39m(max_apps, \u001b[38;5;28mlen\u001b[39m(waiting_app_list))):  \u001b[38;5;66;03m# 加入min函数防止超出\u001b[39;00m\n\u001b[0;32m     13\u001b[0m     waiting_app \u001b[38;5;241m=\u001b[39m random\u001b[38;5;241m.\u001b[39mchoice(waiting_app_list)\n\u001b[1;32m---> 14\u001b[0m     \u001b[43md\u001b[49m\u001b[38;5;241;43m.\u001b[39;49m\u001b[43mapp_start\u001b[49m\u001b[43m(\u001b[49m\u001b[43mwaiting_app\u001b[49m\u001b[43m)\u001b[49m\n\u001b[0;32m     15\u001b[0m     pid \u001b[38;5;241m=\u001b[39m d\u001b[38;5;241m.\u001b[39mapp_wait(waiting_app, timeout\u001b[38;5;241m=\u001b[39m\u001b[38;5;241m20\u001b[39m)\n\u001b[0;32m     16\u001b[0m     \u001b[38;5;28;01mif\u001b[39;00m \u001b[38;5;129;01mnot\u001b[39;00m pid:\n",
      "File \u001b[1;32mE:\\Pycharm\\Anaconda\\lib\\site-packages\\uiautomator2\\__init__.py:1434\u001b[0m, in \u001b[0;36m_AppMixIn.app_start\u001b[1;34m(self, package_name, activity, wait, stop, use_monkey)\u001b[0m\n\u001b[0;32m   1431\u001b[0m     \u001b[38;5;28;01mreturn\u001b[39;00m\n\u001b[0;32m   1433\u001b[0m \u001b[38;5;28;01mif\u001b[39;00m \u001b[38;5;129;01mnot\u001b[39;00m activity:\n\u001b[1;32m-> 1434\u001b[0m     info \u001b[38;5;241m=\u001b[39m \u001b[38;5;28;43mself\u001b[39;49m\u001b[38;5;241;43m.\u001b[39;49m\u001b[43mapp_info\u001b[49m\u001b[43m(\u001b[49m\u001b[43mpackage_name\u001b[49m\u001b[43m)\u001b[49m\n\u001b[0;32m   1435\u001b[0m     activity \u001b[38;5;241m=\u001b[39m info[\u001b[38;5;124m'\u001b[39m\u001b[38;5;124mmainActivity\u001b[39m\u001b[38;5;124m'\u001b[39m]\n\u001b[0;32m   1436\u001b[0m     \u001b[38;5;28;01mif\u001b[39;00m activity\u001b[38;5;241m.\u001b[39mfind(\u001b[38;5;124m\"\u001b[39m\u001b[38;5;124m.\u001b[39m\u001b[38;5;124m\"\u001b[39m) \u001b[38;5;241m==\u001b[39m \u001b[38;5;241m-\u001b[39m\u001b[38;5;241m1\u001b[39m:\n",
      "File \u001b[1;32mE:\\Pycharm\\Anaconda\\lib\\site-packages\\uiautomator2\\__init__.py:1578\u001b[0m, in \u001b[0;36m_AppMixIn.app_info\u001b[1;34m(self, package_name)\u001b[0m\n\u001b[0;32m   1576\u001b[0m resp \u001b[38;5;241m=\u001b[39m resp\u001b[38;5;241m.\u001b[39mjson()\n\u001b[0;32m   1577\u001b[0m \u001b[38;5;28;01mif\u001b[39;00m \u001b[38;5;129;01mnot\u001b[39;00m resp\u001b[38;5;241m.\u001b[39mget(\u001b[38;5;124m'\u001b[39m\u001b[38;5;124msuccess\u001b[39m\u001b[38;5;124m'\u001b[39m):\n\u001b[1;32m-> 1578\u001b[0m     \u001b[38;5;28;01mraise\u001b[39;00m BaseError(resp\u001b[38;5;241m.\u001b[39mget(\u001b[38;5;124m'\u001b[39m\u001b[38;5;124mdescription\u001b[39m\u001b[38;5;124m'\u001b[39m, \u001b[38;5;124m'\u001b[39m\u001b[38;5;124munknown\u001b[39m\u001b[38;5;124m'\u001b[39m))\n\u001b[0;32m   1579\u001b[0m \u001b[38;5;28;01mreturn\u001b[39;00m resp\u001b[38;5;241m.\u001b[39mget(\u001b[38;5;124m'\u001b[39m\u001b[38;5;124mdata\u001b[39m\u001b[38;5;124m'\u001b[39m)\n",
      "\u001b[1;31mBaseError\u001b[0m: stat /data/app/com.adobe.psmobile-iN0WuWoX6WyJS4dyk02dow==/base.apk\npackage:/data/app/com.adobe.psmobile-iN0WuWoX6WyJS4dyk02dow==/split_config.arm64_v8a.apk\npackage:/data/app/com.adobe.psmobile-iN0WuWoX6WyJS4dyk02dow==/split_config.en.apk\npackage:/data/app/com.adobe.psmobile-iN0WuWoX6WyJS4dyk02dow==/split_config.xxhdpi.apk\npackage:/data/app/com.adobe.psmobile-iN0WuWoX6WyJS4dyk02dow==/split_config.zh.apk: no such file or directory"
     ]
    }
   ],
   "source": [
    "open_random_apps()"
   ]
  },
  {
   "cell_type": "markdown",
   "id": "ebc23c66-970a-4071-a3ca-1664a02b56c6",
   "metadata": {},
   "source": [
    "## 关闭所有应用"
   ]
  },
  {
   "cell_type": "code",
   "execution_count": 107,
   "id": "a9379e20-b309-40a8-876b-7041a3b7c070",
   "metadata": {},
   "outputs": [
    {
     "data": {
      "text/plain": [
       "['com.huawei.camera',\n",
       " 'com.google.android.gms',\n",
       " 'com.tencent.mm',\n",
       " 'com.android.phone',\n",
       " 'com.huawei.android.launcher',\n",
       " 'com.huawei.securityserver',\n",
       " 'com.adobe.psmobile',\n",
       " 'com.weawow',\n",
       " 'com.android.vending',\n",
       " 'com.baidu.input_huawei',\n",
       " 'com.huawei.trustspace',\n",
       " 'com.huawei.himovie',\n",
       " 'com.huawei.systemserver',\n",
       " 'com.huawei.ohos.camera',\n",
       " 'com.huawei.harmonyos.foundation',\n",
       " 'com.huawei.nearby',\n",
       " 'com.huawei.recsys',\n",
       " 'com.alibaba.android.rimet',\n",
       " 'com.huawei.hiaction',\n",
       " 'com.huawei.intelligent',\n",
       " 'com.huawei.lbs',\n",
       " 'com.huawei.security.privacycenter',\n",
       " 'myapp.ashuiai',\n",
       " 'com.android.systemui',\n",
       " 'com.android.permissioncontroller',\n",
       " 'com.android.mms',\n",
       " 'com.huawei.hwpanpayservice',\n",
       " 'com.huawei.iaware',\n",
       " 'com.android.bluetooth',\n",
       " 'com.eg.android.AlipayGphone',\n",
       " 'com.tencent.mobileqq',\n",
       " 'com.huawei.hiview',\n",
       " 'com.huawei.hiai',\n",
       " 'com.xunmeng.pinduoduo',\n",
       " 'com.android.nfc',\n",
       " 'com.huawei.trustagent',\n",
       " 'com.huawei.ohos.famanager']"
      ]
     },
     "execution_count": 107,
     "metadata": {},
     "output_type": "execute_result"
    }
   ],
   "source": [
    "d.app_stop_all()"
   ]
  },
  {
   "cell_type": "code",
   "execution_count": 109,
   "id": "129df98d-cc99-46e7-a7b9-6f8c267d7a3f",
   "metadata": {},
   "outputs": [
    {
     "data": {
      "text/plain": [
       "22702"
      ]
     },
     "execution_count": 109,
     "metadata": {},
     "output_type": "execute_result"
    }
   ],
   "source": [
    "d.app_wait('com.adobe.psmobile')"
   ]
  }
 ],
 "metadata": {
  "kernelspec": {
   "display_name": "Python 3",
   "language": "python",
   "name": "python3"
  },
  "language_info": {
   "codemirror_mode": {
    "name": "ipython",
    "version": 3
   },
   "file_extension": ".py",
   "mimetype": "text/x-python",
   "name": "python",
   "nbconvert_exporter": "python",
   "pygments_lexer": "ipython3",
   "version": "3.8.8"
  },
  "widgets": {
   "application/vnd.jupyter.widget-state+json": {
    "state": {},
    "version_major": 2,
    "version_minor": 0
   }
  }
 },
 "nbformat": 4,
 "nbformat_minor": 5
}
