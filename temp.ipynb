{
 "cells": [
  {
   "cell_type": "code",
   "execution_count": 1,
   "id": "60bd0467-9096-49ac-9c11-94ad7245ac5f",
   "metadata": {},
   "outputs": [],
   "source": [
    "import uiautomator2 as u2\n",
    "import random\n",
    "import time"
   ]
  },
  {
   "cell_type": "code",
   "execution_count": 2,
   "id": "6ed1b5e2-4b0d-4972-966d-ea152316681e",
   "metadata": {
    "tags": []
   },
   "outputs": [
    {
     "data": {
      "text/plain": [
       "{'currentPackageName': 'com.android.systemui',\n",
       " 'displayHeight': 2232,\n",
       " 'displayRotation': 0,\n",
       " 'displaySizeDpX': 360,\n",
       " 'displaySizeDpY': 780,\n",
       " 'displayWidth': 1080,\n",
       " 'productName': 'YAL-AL10',\n",
       " 'screenOn': False,\n",
       " 'sdkInt': 29,\n",
       " 'naturalOrientation': True}"
      ]
     },
     "execution_count": 2,
     "metadata": {},
     "output_type": "execute_result"
    }
   ],
   "source": [
    "d = u2.connect()\n",
    "d.info"
   ]
  },
  {
   "cell_type": "markdown",
   "id": "d9e0fad2-6ec4-4feb-bbd5-35dd0994f74d",
   "metadata": {},
   "source": [
    "## 锁屏解锁\n",
    "自动识别息屏、亮屏状态并解锁, 支持无密码、数字、图案"
   ]
  },
  {
   "cell_type": "code",
   "execution_count": 6,
   "id": "f7b3d753-764e-4c39-99d3-88aab60213cd",
   "metadata": {
    "scrolled": true
   },
   "outputs": [],
   "source": [
    "# 华为系\n",
    "def unlock(d):\n",
    "    info = d.info\n",
    "    if info.get('screenOn') and info.get('currentPackageName') != 'com.android.systemui':\n",
    "        # 屏幕已点亮且当前包名不是系统UI（意味着已经在主屏幕或者应用内）\n",
    "        pass\n",
    "    # elif info.get('screenOn') and info.get('currentPackageName') == 'com.android.systemui':\n",
    "    #     # 屏幕已点亮且当前包名是系统UI（可能在锁屏界面）\n",
    "    #     d.press('recent')  # 可能会唤醒密码输入界面\n",
    "    #     # 模拟解锁手势\n",
    "    #     d.swipe_points([(250, 1270), (555, 1570), (850, 1890), (865, 1570), (535, 1300), (260, 1565), (265, 1870), (850, 1275)], 0.1)\n",
    "    #     time.sleep(0.1)\n",
    "    #     d.click(0.9, 0.5)\n",
    "    else:\n",
    "        # 屏幕未点亮\n",
    "        d.screen_on()\n",
    "        d.press('recent')\n",
    "        # 模拟解锁手势\n",
    "        d.swipe_points([(250, 1270), (555, 1570), (850, 1890), (865, 1570), (535, 1300), (260, 1565), (265, 1870), (850, 1275)], 0.1)\n",
    "        time.sleep(0.1)\n",
    "        d.click(0.9, 0.5)\n",
    "        \n"
   ]
  },
  {
   "cell_type": "code",
   "execution_count": 7,
   "id": "c6688b26",
   "metadata": {},
   "outputs": [],
   "source": [
    "unlock(d)"
   ]
  },
  {
   "cell_type": "markdown",
   "id": "4b21a347-aae3-401e-9541-b04292821a12",
   "metadata": {},
   "source": [
    "## 随机打开任意数量个未启动应用\n",
    "支持三方/系统应用类型限定, 更换请在第8行添加参数pm list pack -3 | -s  \n",
    "开始打开app前会检测目前已在运行应用并在将运行列表内剔除"
   ]
  },
  {
   "cell_type": "code",
   "execution_count": 2,
   "id": "f426221e-952d-40b0-a841-1a805b19665e",
   "metadata": {},
   "outputs": [],
   "source": [
    "def open_random_apps():\n",
    "    while True:\n",
    "        try:\n",
    "            max_apps = int(input('请输入最大将运行的app数量: '))\n",
    "            break\n",
    "        except ValueError:\n",
    "            print('请输入整数!')\n",
    "    package_list_prefix = str(d.shell('pm list package -3')).split('output=')[1].split(', exit_code')[0].strip(\"'\").split('\\\\n')[:-1]\n",
    "    package_list = [pkg.replace('package:', '') for pkg in package_list_prefix if pkg]\n",
    "    running_app_list = d.app_list_running()\n",
    "    waiting_app_list = [app for app in package_list if app not in running_app_list]\n",
    "    for i in range(min(max_apps, len(waiting_app_list))):  # 加入min函数防止溢出\n",
    "        try:\n",
    "            waiting_app = random.choice(waiting_app_list)\n",
    "            d.app_start(waiting_app) # 目前版本的U2该函数有Bug, 所以采用以下方法补救\n",
    "            pid = d.app_wait(waiting_app, timeout=10)                \n",
    "            print(f'{waiting_app}进程为{pid}')\n",
    "        except:\n",
    "            try:\n",
    "                d.shell(f\"monkey -p {waiting_app} -c android.intent.category.LAUNCHER 1\")  # 使用intent过滤器查找到AndroidManifest.xml中的MainACTIVITY, 配合Monkey启动应用,  -p指定包名, -c指定intent类别, 1表示执行时间的数量\n",
    "                pid = d.app_wait(waiting_app, timeout=10)                \n",
    "                print(f'{waiting_app}进程为{pid}')\n",
    "            except Exception as e:\n",
    "                 print(f'{waiting_app}没在运行!')\n",
    "                 print(f\"捕获到错误：{e}\")\n",
    "        finally:\n",
    "            waiting_app_list.remove(waiting_app)\n",
    "            "
   ]
  },
  {
   "cell_type": "code",
   "execution_count": 6,
   "id": "d6bf7b1b-b5ad-459e-b3c8-8a5b7017afa5",
   "metadata": {
    "scrolled": true
   },
   "outputs": [
    {
     "name": "stdout",
     "output_type": "stream",
     "text": [
      "请输入最大将运行的app数量:  10\n"
     ]
    },
    {
     "name": "stdout",
     "output_type": "stream",
     "text": [
      "com.tencent.androidqqmail进程为22511\n",
      "cmb.pb进程为0\n",
      "com.zhihu.android进程为23485\n",
      "com.max.xiaoheihe进程为23966\n",
      "com.github.uiautomator.test进程为0\n",
      "ctrip.android.view进程为25361\n",
      "com.adobe.psmobile进程为25859\n",
      "cn.edu.zjicm.wordsnet_d进程为26103\n",
      "hello.litiaotiao.app进程为26528\n",
      "com.sankuai.meituan进程为26701\n"
     ]
    }
   ],
   "source": [
    "open_random_apps()"
   ]
  },
  {
   "cell_type": "markdown",
   "id": "ebc23c66-970a-4071-a3ca-1664a02b56c6",
   "metadata": {},
   "source": [
    "## 关闭所有应用"
   ]
  },
  {
   "cell_type": "code",
   "execution_count": 6,
   "id": "a9379e20-b309-40a8-876b-7041a3b7c070",
   "metadata": {
    "scrolled": true
   },
   "outputs": [
    {
     "data": {
      "text/plain": [
       "['com.huawei.security.privacycenter',\n",
       " 'com.weawow',\n",
       " 'com.xunmeng.pinduoduo',\n",
       " 'com.huawei.camera',\n",
       " 'com.huawei.nearby',\n",
       " 'com.android.mms',\n",
       " 'com.huawei.harmonyos.foundation',\n",
       " 'com.huawei.lbs',\n",
       " 'com.android.nfc',\n",
       " 'com.android.systemui',\n",
       " 'com.huawei.iaware',\n",
       " 'com.google.android.gms',\n",
       " 'com.huawei.hidisk',\n",
       " 'com.huawei.profile',\n",
       " 'com.android.gallery3d',\n",
       " 'com.huawei.browser',\n",
       " 'com.huawei.recsys',\n",
       " 'com.huawei.intelligent',\n",
       " 'com.alibaba.android.rimet',\n",
       " 'com.tencent.mm',\n",
       " 'com.cz.GJ2X',\n",
       " 'com.huawei.hiaction',\n",
       " 'com.huawei.magazine',\n",
       " 'com.huawei.trustagent',\n",
       " 'com.huawei.android.thememanager',\n",
       " 'com.huawei.android.pushagent',\n",
       " 'com.android.contacts',\n",
       " 'com.android.phone',\n",
       " 'com.huawei.himovie',\n",
       " 'com.baidu.baidutranslate',\n",
       " 'mark.via.gp',\n",
       " 'com.huawei.android.launcher',\n",
       " 'com.huawei.systemserver',\n",
       " 'com.android.vending',\n",
       " 'hello.litiaotiao.app',\n",
       " 'cmb.pb',\n",
       " 'com.huawei.securityserver',\n",
       " 'com.xinmang.unzip',\n",
       " 'com.android.calendar',\n",
       " 'com.android.bluetooth',\n",
       " 'com.vnet.tech',\n",
       " 'com.android.deskclock',\n",
       " 'com.huawei.hiai',\n",
       " 'com.android.soundrecorder',\n",
       " 'com.huawei.hiview',\n",
       " 'com.google.android.partnersetup',\n",
       " 'com.android.providers.calendar',\n",
       " 'com.baidu.input_huawei',\n",
       " 'com.huawei.hwid']"
      ]
     },
     "execution_count": 6,
     "metadata": {},
     "output_type": "execute_result"
    }
   ],
   "source": [
    "d.app_stop_all()"
   ]
  },
  {
   "cell_type": "markdown",
   "id": "c80a3c80-6eb0-4e19-b830-279e6f1e5145",
   "metadata": {},
   "source": [
    "## 发送语微信语音消息"
   ]
  },
  {
   "cell_type": "code",
   "execution_count": 7,
   "id": "3abe4d4c-a97d-497b-8bba-1d530216a502",
   "metadata": {
    "scrolled": true
   },
   "outputs": [
    {
     "ename": "BaseError",
     "evalue": "stat /data/app/com.zhihu.android-lE57VtKtaSmJY68K23g31Q==/base.apk\npackage:/data/app/com.zhihu.android-lE57VtKtaSmJY68K23g31Q==/split_billboard.apk: no such file or directory",
     "output_type": "error",
     "traceback": [
      "\u001b[1;31m---------------------------------------------------------------------------\u001b[0m",
      "\u001b[1;31mBaseError\u001b[0m                                 Traceback (most recent call last)",
      "Cell \u001b[1;32mIn[7], line 1\u001b[0m\n\u001b[1;32m----> 1\u001b[0m \u001b[43md\u001b[49m\u001b[38;5;241;43m.\u001b[39;49m\u001b[43mapp_info\u001b[49m\u001b[43m(\u001b[49m\u001b[38;5;124;43m'\u001b[39;49m\u001b[38;5;124;43mcom.zhihu.android\u001b[39;49m\u001b[38;5;124;43m'\u001b[39;49m\u001b[43m)\u001b[49m\n",
      "File \u001b[1;32mE:\\Pycharm\\Python312\\Lib\\site-packages\\uiautomator2\\__init__.py:1578\u001b[0m, in \u001b[0;36m_AppMixIn.app_info\u001b[1;34m(self, package_name)\u001b[0m\n\u001b[0;32m   1576\u001b[0m resp \u001b[38;5;241m=\u001b[39m resp\u001b[38;5;241m.\u001b[39mjson()\n\u001b[0;32m   1577\u001b[0m \u001b[38;5;28;01mif\u001b[39;00m \u001b[38;5;129;01mnot\u001b[39;00m resp\u001b[38;5;241m.\u001b[39mget(\u001b[38;5;124m'\u001b[39m\u001b[38;5;124msuccess\u001b[39m\u001b[38;5;124m'\u001b[39m):\n\u001b[1;32m-> 1578\u001b[0m     \u001b[38;5;28;01mraise\u001b[39;00m BaseError(resp\u001b[38;5;241m.\u001b[39mget(\u001b[38;5;124m'\u001b[39m\u001b[38;5;124mdescription\u001b[39m\u001b[38;5;124m'\u001b[39m, \u001b[38;5;124m'\u001b[39m\u001b[38;5;124munknown\u001b[39m\u001b[38;5;124m'\u001b[39m))\n\u001b[0;32m   1579\u001b[0m \u001b[38;5;28;01mreturn\u001b[39;00m resp\u001b[38;5;241m.\u001b[39mget(\u001b[38;5;124m'\u001b[39m\u001b[38;5;124mdata\u001b[39m\u001b[38;5;124m'\u001b[39m)\n",
      "\u001b[1;31mBaseError\u001b[0m: stat /data/app/com.zhihu.android-lE57VtKtaSmJY68K23g31Q==/base.apk\npackage:/data/app/com.zhihu.android-lE57VtKtaSmJY68K23g31Q==/split_billboard.apk: no such file or directory"
     ]
    }
   ],
   "source": [
    "def send_wx_audio_msg():\n",
    "    while True:\n",
    "        try:\n",
    "            if d.app_current.get('currentPackageName') != \"com.tencent.mm\":\n",
    "                d.app_start('com.tencent.mm')\n",
    "            \n",
    "            "
   ]
  },
  {
   "cell_type": "code",
   "execution_count": 43,
   "id": "a57663cc-1723-4b33-8fff-223923cfc52a",
   "metadata": {},
   "outputs": [
    {
     "ename": "BaseError",
     "evalue": "stat /data/app/com.bittorrent.client-H8kraWadPSbCnaOIgDme5g==/base.apk\npackage:/data/app/com.bittorrent.client-H8kraWadPSbCnaOIgDme5g==/split_config.arm64_v8a.apk\npackage:/data/app/com.bittorrent.client-H8kraWadPSbCnaOIgDme5g==/split_config.en.apk\npackage:/data/app/com.bittorrent.client-H8kraWadPSbCnaOIgDme5g==/split_config.xxhdpi.apk: no such file or directory",
     "output_type": "error",
     "traceback": [
      "\u001b[1;31m---------------------------------------------------------------------------\u001b[0m",
      "\u001b[1;31mBaseError\u001b[0m                                 Traceback (most recent call last)",
      "Cell \u001b[1;32mIn[43], line 1\u001b[0m\n\u001b[1;32m----> 1\u001b[0m \u001b[43md\u001b[49m\u001b[38;5;241;43m.\u001b[39;49m\u001b[43mapp_start\u001b[49m\u001b[43m(\u001b[49m\u001b[38;5;124;43m\"\u001b[39;49m\u001b[38;5;124;43mcom.bittorrent.client\u001b[39;49m\u001b[38;5;124;43m\"\u001b[39;49m\u001b[43m)\u001b[49m\n",
      "File \u001b[1;32mE:\\Pycharm\\Python312\\Lib\\site-packages\\uiautomator2\\__init__.py:1434\u001b[0m, in \u001b[0;36m_AppMixIn.app_start\u001b[1;34m(self, package_name, activity, wait, stop, use_monkey)\u001b[0m\n\u001b[0;32m   1431\u001b[0m     \u001b[38;5;28;01mreturn\u001b[39;00m\n\u001b[0;32m   1433\u001b[0m \u001b[38;5;28;01mif\u001b[39;00m \u001b[38;5;129;01mnot\u001b[39;00m activity:\n\u001b[1;32m-> 1434\u001b[0m     info \u001b[38;5;241m=\u001b[39m \u001b[38;5;28;43mself\u001b[39;49m\u001b[38;5;241;43m.\u001b[39;49m\u001b[43mapp_info\u001b[49m\u001b[43m(\u001b[49m\u001b[43mpackage_name\u001b[49m\u001b[43m)\u001b[49m\n\u001b[0;32m   1435\u001b[0m     activity \u001b[38;5;241m=\u001b[39m info[\u001b[38;5;124m'\u001b[39m\u001b[38;5;124mmainActivity\u001b[39m\u001b[38;5;124m'\u001b[39m]\n\u001b[0;32m   1436\u001b[0m     \u001b[38;5;28;01mif\u001b[39;00m activity\u001b[38;5;241m.\u001b[39mfind(\u001b[38;5;124m\"\u001b[39m\u001b[38;5;124m.\u001b[39m\u001b[38;5;124m\"\u001b[39m) \u001b[38;5;241m==\u001b[39m \u001b[38;5;241m-\u001b[39m\u001b[38;5;241m1\u001b[39m:\n",
      "File \u001b[1;32mE:\\Pycharm\\Python312\\Lib\\site-packages\\uiautomator2\\__init__.py:1578\u001b[0m, in \u001b[0;36m_AppMixIn.app_info\u001b[1;34m(self, package_name)\u001b[0m\n\u001b[0;32m   1576\u001b[0m resp \u001b[38;5;241m=\u001b[39m resp\u001b[38;5;241m.\u001b[39mjson()\n\u001b[0;32m   1577\u001b[0m \u001b[38;5;28;01mif\u001b[39;00m \u001b[38;5;129;01mnot\u001b[39;00m resp\u001b[38;5;241m.\u001b[39mget(\u001b[38;5;124m'\u001b[39m\u001b[38;5;124msuccess\u001b[39m\u001b[38;5;124m'\u001b[39m):\n\u001b[1;32m-> 1578\u001b[0m     \u001b[38;5;28;01mraise\u001b[39;00m BaseError(resp\u001b[38;5;241m.\u001b[39mget(\u001b[38;5;124m'\u001b[39m\u001b[38;5;124mdescription\u001b[39m\u001b[38;5;124m'\u001b[39m, \u001b[38;5;124m'\u001b[39m\u001b[38;5;124munknown\u001b[39m\u001b[38;5;124m'\u001b[39m))\n\u001b[0;32m   1579\u001b[0m \u001b[38;5;28;01mreturn\u001b[39;00m resp\u001b[38;5;241m.\u001b[39mget(\u001b[38;5;124m'\u001b[39m\u001b[38;5;124mdata\u001b[39m\u001b[38;5;124m'\u001b[39m)\n",
      "\u001b[1;31mBaseError\u001b[0m: stat /data/app/com.bittorrent.client-H8kraWadPSbCnaOIgDme5g==/base.apk\npackage:/data/app/com.bittorrent.client-H8kraWadPSbCnaOIgDme5g==/split_config.arm64_v8a.apk\npackage:/data/app/com.bittorrent.client-H8kraWadPSbCnaOIgDme5g==/split_config.en.apk\npackage:/data/app/com.bittorrent.client-H8kraWadPSbCnaOIgDme5g==/split_config.xxhdpi.apk: no such file or directory"
     ]
    }
   ],
   "source": [
    "d.app_start(\"com.bittorrent.client\")"
   ]
  },
  {
   "cell_type": "code",
   "execution_count": 27,
   "id": "f50dcb22-a5d6-49f3-a23a-83d7f0fb7f9d",
   "metadata": {},
   "outputs": [
    {
     "data": {
      "text/plain": [
       "{'package': 'com.bittorrent.client',\n",
       " 'activity': 'com.bittorrent.app.Main',\n",
       " 'pid': 2928}"
      ]
     },
     "execution_count": 27,
     "metadata": {},
     "output_type": "execute_result"
    }
   ],
   "source": [
    "d.app_current()"
   ]
  }
 ],
 "metadata": {
  "kernelspec": {
   "display_name": "Python 3 (ipykernel)",
   "language": "python",
   "name": "python3"
  },
  "language_info": {
   "codemirror_mode": {
    "name": "ipython",
    "version": 3
   },
   "file_extension": ".py",
   "mimetype": "text/x-python",
   "name": "python",
   "nbconvert_exporter": "python",
   "pygments_lexer": "ipython3",
   "version": "3.9.7"
  },
  "widgets": {
   "application/vnd.jupyter.widget-state+json": {
    "state": {},
    "version_major": 2,
    "version_minor": 0
   }
  }
 },
 "nbformat": 4,
 "nbformat_minor": 5
}
