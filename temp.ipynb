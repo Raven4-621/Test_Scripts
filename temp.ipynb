{
 "cells": [
  {
   "cell_type": "code",
   "execution_count": 64,
   "id": "60bd0467-9096-49ac-9c11-94ad7245ac5f",
   "metadata": {},
   "outputs": [],
   "source": [
    "import uiautomator2 as u2\n",
    "\n",
    "d = u2.connect()"
   ]
  },
  {
   "cell_type": "code",
   "execution_count": 65,
   "id": "6ed1b5e2-4b0d-4972-966d-ea152316681e",
   "metadata": {
    "tags": []
   },
   "outputs": [
    {
     "data": {
      "text/plain": [
       "{'currentPackageName': 'com.android.systemui',\n",
       " 'displayHeight': 2232,\n",
       " 'displayRotation': 0,\n",
       " 'displaySizeDpX': 360,\n",
       " 'displaySizeDpY': 780,\n",
       " 'displayWidth': 1080,\n",
       " 'productName': 'YAL-AL10',\n",
       " 'screenOn': False,\n",
       " 'sdkInt': 29,\n",
       " 'naturalOrientation': True}"
      ]
     },
     "execution_count": 65,
     "metadata": {},
     "output_type": "execute_result"
    }
   ],
   "source": [
    "d.info"
   ]
  },
  {
   "cell_type": "markdown",
   "id": "d9e0fad2-6ec4-4feb-bbd5-35dd0994f74d",
   "metadata": {},
   "source": [
    "## 锁屏解锁\n",
    "自动识别息屏、亮屏状态并解锁, 支持无密码、数字、图案"
   ]
  },
  {
   "cell_type": "code",
   "execution_count": 61,
   "id": "f7b3d753-764e-4c39-99d3-88aab60213cd",
   "metadata": {
    "scrolled": true
   },
   "outputs": [],
   "source": [
    "def unlock(d):\n",
    "    info = d.info\n",
    "    if info.get('screenOn') and info.get('currentPackageName') != 'com.android.systemui':\n",
    "        # 屏幕已点亮且当前包名不是系统UI（意味着已经在主屏幕或者应用内）\n",
    "        pass\n",
    "    elif info.get('screenOn') and info.get('currentPackageName') == 'com.android.systemui':\n",
    "        # 屏幕已点亮且当前包名是系统UI（可能在锁屏界面）\n",
    "        d.press('recent')  # 可能会唤醒密码输入界面\n",
    "        # 模拟解锁手势\n",
    "        d.swipe_points([(250, 1270), (555, 1570), (850, 1890), (865, 1570), (535, 1300), (260, 1565), (265, 1870), (850, 1275)], 0.1)\n",
    "        d.click(0.9, 0.5)\n",
    "    else:\n",
    "        # 屏幕未点亮\n",
    "        d.screen_on()\n",
    "        d.press('recent')\n",
    "        # 模拟解锁手势\n",
    "        d.swipe_points([(250, 1270), (555, 1570), (850, 1890), (865, 1570), (535, 1300), (260, 1565), (265, 1870), (850, 1275)], 0.1)\n",
    "        d.click(0.9, 0.5)\n",
    "        \n"
   ]
  },
  {
   "cell_type": "code",
   "execution_count": null,
   "id": "1a1be2ef-437b-4fb7-b4b7-0410aff82818",
   "metadata": {},
   "outputs": [],
   "source": []
  }
 ],
 "metadata": {
  "kernelspec": {
   "display_name": "Python 3",
   "language": "python",
   "name": "python3"
  },
  "language_info": {
   "codemirror_mode": {
    "name": "ipython",
    "version": 3
   },
   "file_extension": ".py",
   "mimetype": "text/x-python",
   "name": "python",
   "nbconvert_exporter": "python",
   "pygments_lexer": "ipython3",
   "version": "3.8.8"
  },
  "widgets": {
   "application/vnd.jupyter.widget-state+json": {
    "state": {},
    "version_major": 2,
    "version_minor": 0
   }
  }
 },
 "nbformat": 4,
 "nbformat_minor": 5
}
